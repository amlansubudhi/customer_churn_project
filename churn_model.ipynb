{
 "cells": [
  {
   "cell_type": "code",
   "execution_count": null,
   "id": "496c6c0a-2bb3-4fc7-9e3b-b9700f983b9b",
   "metadata": {},
   "outputs": [],
   "source": [
    "import pandas as pd\n",
    "from sklearn.model_selection import train_test_split\n",
    "from sklearn.linear_model import LogisticRegression\n",
    "from sklearn.metrics import accuracy_score,confusion_matrix,classification_report\n",
    "from sklearn.impute import SimpleImputer\n",
    "\n",
    "\n",
    "\n",
    "df=pd.read_csv(r\"C:\\Users\\amlan\\Downloads\\stg_customers.csv\")\n",
    "binary_cols=['SENIOR_CITIZEN','PARTNER','DEPENDENTS','PHONE_SERVICE','ONLINE_SECURITY','ONLINE_BACKUP','DEVICE_PROTECTION','TECH_SUPPORT','STREAMING_TV','STREAMING_MOVIES','PAPERLESS_BILLING','GENDER','HAS_INTERNET']\n",
    "for col in binary_cols:\n",
    "    if col in df.columns:\n",
    "        df[col]=df[col].map({'yes':1,'no':0,'Yes':1,'No':0})\n",
    "if 'gender' in df.columns:\n",
    "    df['gender']=df['gender'].map({'male':0,'female':1})\n",
    "\n",
    "features=['SENIOR_CITIZEN','PARTNER','DEPENDENTS','PHONE_SERVICE','ONLINE_SECURITY','ONLINE_BACKUP','DEVICE_PROTECTION','TECH_SUPPORT','STREAMING_TV','STREAMING_MOVIES','PAPERLESS_BILLING','GENDER','HAS_INTERNET']\n",
    "target=['CHURN']\n",
    "\n",
    "x=df[features]\n",
    "y=df[target]\n",
    "\n",
    "\n",
    "model=LogisticRegression(max_iter=1000)\n",
    "model.fit(x_train,y_train)\n",
    "\n",
    "y_pred=model.predict(x_test)\n",
    "\n",
    "print(\"Accuracy:\" , accuracy_score(y_test,y_pred))\n",
    "print(\"Confusion Matrix:\", confusion_matrix(y_test,y_pred))\n",
    "print(\"Classification Report:\",classification_report(y_test,y_pred))\n",
    "\n",
    "results=x_test.copy()\n",
    "results['Actual']=y_test\n",
    "results['Predicted']=y_pred\n",
    "print(results.head())\n"
   ]
  }
 ],
 "metadata": {
  "kernelspec": {
   "display_name": "Python 3 (ipykernel)",
   "language": "python",
   "name": "python3"
  },
  "language_info": {
   "codemirror_mode": {
    "name": "ipython",
    "version": 3
   },
   "file_extension": ".py",
   "mimetype": "text/x-python",
   "name": "python",
   "nbconvert_exporter": "python",
   "pygments_lexer": "ipython3",
   "version": "3.12.4"
  }
 },
 "nbformat": 4,
 "nbformat_minor": 5
}
